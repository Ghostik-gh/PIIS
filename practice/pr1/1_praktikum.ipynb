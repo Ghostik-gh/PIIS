{
  "cells": [
    {
      "cell_type": "markdown",
      "metadata": {
        "id": "Sc3yDmSxEevI"
      },
      "source": [
        "# **Практическая работа № 1**\n",
        "Выполнил: студент группы БВТ2102 Маширин Федор"
      ]
    },
    {
      "cell_type": "markdown",
      "metadata": {
        "id": "-NRJUjVtDVCg"
      },
      "source": [
        "Задача №1\n",
        "Написать функцию, на вход которой подается строка, состоящая из латинских букв. Функция должна вернуть количество гласных букв (a, e, i, o, u) в этой строке.\n"
      ]
    },
    {
      "cell_type": "code",
      "execution_count": 1,
      "metadata": {
        "colab": {
          "base_uri": "https://localhost:8080/"
        },
        "id": "5sm6z_5jDHIa",
        "outputId": "b965d840-11a8-4157-f057-7d72d9b0849e"
      },
      "outputs": [
        {
          "data": {
            "text/plain": [
              "167"
            ]
          },
          "execution_count": 1,
          "metadata": {},
          "output_type": "execute_result"
        }
      ],
      "source": [
        "def vowels_counter(s):\n",
        "  find_letters = ['a', 'e', 'i', 'o', 'u', 'A', 'E', 'I', 'O', 'U']\n",
        "  count = 0\n",
        "  for char in s:\n",
        "    if char in find_letters:\n",
        "      count += 1\n",
        "  return count\n",
        "vowels_counter(\"Lorem ipsum dolor sit amet, consectetur adipiscing elit, sed do eiusmod tempor incididunt ut labore et dolore magna aliqua. Ut enim ad minim veniam, quis nostrud exercitation ullamco laboris nisi ut aliquip ex ea commodo consequat. Duis aute irure dolor in reprehenderit in voluptate velit esse cillum dolore eu fugiat nulla pariatur. Excepteur sint occaecat cupidatat non proident, sunt in culpa qui officia deserunt mollit anim id est laborum.\")"
      ]
    },
    {
      "cell_type": "markdown",
      "metadata": {
        "id": "tiXNvupbELqV"
      },
      "source": [
        "Задача №2\n",
        "Написать функцию на вход, которой подается строка. Функция должна вернуть true, если каждый символ в строке встречается только 1 раз, иначе должна вернуть false.\n"
      ]
    },
    {
      "cell_type": "code",
      "execution_count": 15,
      "metadata": {
        "colab": {
          "base_uri": "https://localhost:8080/"
        },
        "id": "bdaU0ssgEqB_",
        "outputId": "24e2cd77-49b0-456b-a8d1-0a87b6152ea2"
      },
      "outputs": [
        {
          "data": {
            "text/plain": [
              "False"
            ]
          },
          "execution_count": 15,
          "metadata": {},
          "output_type": "execute_result"
        }
      ],
      "source": [
        "def duplicate(s):\n",
        "  seen = set()\n",
        "  for char in s.lower():\n",
        "      if char in seen:\n",
        "          return False\n",
        "      else:\n",
        "          seen.add(char)\n",
        "  return True\n",
        "\n",
        "duplicate(\"abocra\")"
      ]
    },
    {
      "cell_type": "markdown",
      "metadata": {
        "id": "IbReEkPfFYA-"
      },
      "source": [
        "Задача №3\n",
        "Написать функцию, которая принимает положительное число и возвращает количество бит равных 1 в этом числе.\n"
      ]
    },
    {
      "cell_type": "code",
      "execution_count": 14,
      "metadata": {
        "colab": {
          "base_uri": "https://localhost:8080/"
        },
        "id": "_aAzMQMgFjNI",
        "outputId": "d6788d2c-33d7-4e2d-dc27-5170ba667074"
      },
      "outputs": [
        {
          "data": {
            "text/plain": [
              "3"
            ]
          },
          "execution_count": 14,
          "metadata": {},
          "output_type": "execute_result"
        }
      ],
      "source": [
        "def bit_counter(n):\n",
        "  s = 0\n",
        "  if n < 0:\n",
        "    return (\"Число отрицательное\")\n",
        "  else:\n",
        "    while n > 0:\n",
        "      s = s + n % 2\n",
        "      n = n // 2\n",
        "  return s\n",
        "\n",
        "bit_counter(14)"
      ]
    },
    {
      "cell_type": "markdown",
      "metadata": {
        "id": "DQF4zRLmG-Gl"
      },
      "source": [
        "Задача №4\n",
        "Написать функцию, которая принимает положительное. Функция должна вернуть то, сколько раз необходимо перемножать цифры числа или результат перемножения, чтобы получилось число, состоящее из одной цифры.\n",
        "Например, для входного числа:\n",
        "·       39 функция должна вернуть 3, так как 3*9=27 => 2*7=14 => 1*4=4\n",
        "·       4 функция должна вернуть 0, так как число уже состоит из одной цифры\n",
        "·       999 функция должна вернуть 4, так как 9*9*9=729 => 7*2*9=126 => 1*2*6=12 => 1*2=2\n"
      ]
    },
    {
      "cell_type": "code",
      "execution_count": 17,
      "metadata": {
        "colab": {
          "base_uri": "https://localhost:8080/"
        },
        "id": "h3oiFuicHXhZ",
        "outputId": "105abc5f-2c63-4aaf-f8ab-e5c9775b96a4"
      },
      "outputs": [
        {
          "data": {
            "text/plain": [
              "4"
            ]
          },
          "execution_count": 17,
          "metadata": {},
          "output_type": "execute_result"
        }
      ],
      "source": [
        "def mult_counter(n):\n",
        "  count = 0\n",
        "  if n < 0:\n",
        "    return (\"Чило отрицательное\")\n",
        "  if n < 10:\n",
        "    return 0\n",
        "  while n > 9:\n",
        "    digits = [int(digit) for digit in str(n)]\n",
        "    result = 1\n",
        "    for m in digits:\n",
        "      result *= m\n",
        "    count += 1\n",
        "    n = result\n",
        "  return count\n",
        "\n",
        "mult_counter(999)"
      ]
    },
    {
      "cell_type": "markdown",
      "metadata": {
        "id": "qAh7_eugJv6K"
      },
      "source": [
        "Задача №5\n",
        "Написать функцую, которая принимает два целочисленных вектора одинаковой длины и возвращает среднеквадратическое отклонение двух векторов.\n"
      ]
    },
    {
      "cell_type": "code",
      "execution_count": 12,
      "metadata": {
        "colab": {
          "base_uri": "https://localhost:8080/"
        },
        "id": "IsiL4fo0KtX7",
        "outputId": "149bb468-6156-4d03-b0ed-b4514890e66b"
      },
      "outputs": [
        {
          "data": {
            "text/plain": [
              "3.0"
            ]
          },
          "execution_count": 12,
          "metadata": {},
          "output_type": "execute_result"
        }
      ],
      "source": [
        "import math\n",
        "def vectors(vec1, vec2):\n",
        "  if len(vec1) != len(vec2):\n",
        "    return (\"Векторы не одинаковой длины\")\n",
        "  quads = 0\n",
        "  for v1, v2 in zip(vec1, vec2):\n",
        "    quads += (v1 - v2) ** 2\n",
        "  mean = quads / len(vec1)\n",
        "  amd = math.sqrt(mean)\n",
        "  return amd\n",
        "vectors([1, 2, 3], [4, 5, 6])"
      ]
    },
    {
      "cell_type": "markdown",
      "metadata": {
        "id": "YVIhKGVKOJXQ"
      },
      "source": [
        "Задача №6\n",
        "Написать функцию, которая принимает список чисел и возвращает кортеж из двух элементов. Первый элемент кортежа – мат. ожидание, второй элемент – СКО. Запрещается использовать функции для расчета соответствующих характеристик.\n"
      ]
    },
    {
      "cell_type": "code",
      "execution_count": 21,
      "metadata": {
        "colab": {
          "base_uri": "https://localhost:8080/"
        },
        "id": "1sEpIfGqOLrK",
        "outputId": "a945d201-f141-4acf-f3b9-ed6dde6a4a47"
      },
      "outputs": [
        {
          "data": {
            "text/plain": [
              "(3.5, 1.707825127659933)"
            ]
          },
          "execution_count": 21,
          "metadata": {},
          "output_type": "execute_result"
        }
      ],
      "source": [
        "def mat_amd(m):\n",
        "  mean = sum(m) / len(m)\n",
        "  quads = 0\n",
        "  for n in m:\n",
        "    quads += (n - mean) ** 2\n",
        "  amd = (quads / len(m)) ** 0.5\n",
        "  return mean, amd\n",
        "\n",
        "mat_amd([1, 2, 3, 4, 5, 6])"
      ]
    },
    {
      "cell_type": "markdown",
      "metadata": {
        "id": "T8nDuY1GQU8u"
      },
      "source": [
        "Задача №7\n",
        "Написать функцию, принимающая целое положительное число. Функция должна вернуть строку вида “(n1**p1)(n2**p2)…(nk**pk)” представляющая разложение числа на простые множители (если pi == 1, то выводить только ni).\n",
        "Например, для числа 86240 функция должна вернуть “(2\\*\\*5)(5)(7\\*\\*2)(11)”\n"
      ]
    },
    {
      "cell_type": "code",
      "execution_count": 24,
      "metadata": {
        "colab": {
          "base_uri": "https://localhost:8080/",
          "height": 35
        },
        "id": "VweHmnauQWmt",
        "outputId": "87cca600-397a-4b5d-e6bb-cc745a43e19e"
      },
      "outputs": [
        {
          "data": {
            "text/plain": [
              "'(2**5)(5)(7**2)(11)'"
            ]
          },
          "execution_count": 24,
          "metadata": {},
          "output_type": "execute_result"
        }
      ],
      "source": [
        "def Prime_factor(n):\n",
        "  prime = []\n",
        "  d = 2\n",
        "  count = {}\n",
        "  while d * d <= n:\n",
        "    if n % d == 0:\n",
        "      prime.append(d)\n",
        "      n //= d\n",
        "    else:\n",
        "      d += 1\n",
        "  if n > 1:\n",
        "    prime.append(n)\n",
        "  for num in prime:\n",
        "    if num in count:\n",
        "      count[num] += 1\n",
        "    else:\n",
        "      count[num] = 1\n",
        "  res = []\n",
        "  for num, cnt in count.items():\n",
        "    if cnt > 1:\n",
        "      res.append(str(num) + \"**\" + str(cnt))\n",
        "    else:\n",
        "      res.append(str(num))\n",
        "  return '(' + ')('.join(res) + ')'\n",
        "\n",
        "Prime_factor(86240)\n"
      ]
    },
    {
      "cell_type": "markdown",
      "metadata": {
        "id": "PsMwyvEzaOh4"
      },
      "source": [
        "*Задача* №8\n",
        "Написать функцию, принимающая 2 строки вида “xxx.xxx.xxx.xxx” представляющие ip-адрес и маску сети. Функция должна вернуть 2 строки: адрес сети и широковещательный адрес.\n"
      ]
    },
    {
      "cell_type": "code",
      "execution_count": 8,
      "metadata": {
        "colab": {
          "base_uri": "https://localhost:8080/"
        },
        "id": "uazR4XXKaQpi",
        "outputId": "101449ba-21c2-4553-c146-b687972924ba"
      },
      "outputs": [
        {
          "data": {
            "text/plain": [
              "('192.168.1.0', '192.168.1.255')"
            ]
          },
          "execution_count": 8,
          "metadata": {},
          "output_type": "execute_result"
        }
      ],
      "source": [
        "def get_broadcast_and_ip_by_mask(ip, mask):\n",
        "  ip_arr = ip.split(\".\")\n",
        "  mask_arr = mask.split(\".\")\n",
        "  net_arr = []\n",
        "  broadcast_arr = []\n",
        "  for i, m in zip(ip_arr, mask_arr):\n",
        "    net_arr.append(str(int(i) & int(m)))\n",
        "    broadcast_arr.append(str(int(i) | (255^int(m))))\n",
        "  net = '.'.join(net_arr)\n",
        "  broadcast = '.'.join(broadcast_arr)\n",
        "  return net, broadcast\n",
        "\n",
        "get_broadcast_and_ip_by_mask(\"192.168.1.1\", \"255.255.255.0\")"
      ]
    },
    {
      "cell_type": "markdown",
      "metadata": {
        "id": "_ooPIQ0yc1BR"
      },
      "source": [
        "Задача №9\n",
        "Написать функцию, принимающая целое число n, задающее количество кубиков. Функция должна определить, можно ли из данного кол-ва кубиков построить пирамиду, то есть можно ли представить число n как 1^2+2^2+3^2+…+k^2. Если можно, то функция должна вернуть k, иначе строку “It is impossible”.\n"
      ]
    },
    {
      "cell_type": "code",
      "execution_count": 26,
      "metadata": {
        "colab": {
          "base_uri": "https://localhost:8080/"
        },
        "id": "EVJo9z4Gc3S0",
        "outputId": "577f854c-2454-4b09-e8e9-4e21c1d3ab13"
      },
      "outputs": [
        {
          "data": {
            "text/plain": [
              "3"
            ]
          },
          "execution_count": 26,
          "metadata": {},
          "output_type": "execute_result"
        }
      ],
      "source": [
        "def pyramid(n : int):\n",
        "  k = 0\n",
        "  while n != 0:\n",
        "    k += 1\n",
        "    n -= (k**2)\n",
        "    if n < 0:\n",
        "      return (\"It is impossible\")\n",
        "  return k\n",
        "\n",
        "pyramid(14)"
      ]
    },
    {
      "cell_type": "markdown",
      "metadata": {
        "id": "-ohCnmVEeKBE"
      },
      "source": [
        "Задача №10\n",
        "Написать функцию, которая принимает положительное целое число n и определяющая является ли число n сбалансированным. Число является сбалансированным, если сумма цифр до средних цифр равна сумме цифр после средней цифры. Если число нечетное, то средняя цифра одна, если четное, то средних цифр две. При расчете, средние числа не участвуют.\n",
        "Например:\n",
        "·       Число 23441 сбалансированное, так как 2+3=4+1\n",
        "·       Число 7 сбалансированное, так как 0=0\n",
        "·       Число 1231 сбалансированное, так как 1=1\n",
        "·       Число 123456 несбалансированное, так как 1+2!=5+6\n"
      ]
    },
    {
      "cell_type": "code",
      "execution_count": 25,
      "metadata": {
        "colab": {
          "base_uri": "https://localhost:8080/"
        },
        "id": "41yIPdzgeONK",
        "outputId": "89735ebd-1610-4dd0-ebc7-ed6fa084205e"
      },
      "outputs": [
        {
          "data": {
            "text/plain": [
              "False"
            ]
          },
          "execution_count": 25,
          "metadata": {},
          "output_type": "execute_result"
        }
      ],
      "source": [
        "def balance(s):\n",
        "  if len(str(s)) == 1:\n",
        "    return True\n",
        "  if len(str(s)) == 2:\n",
        "    return False\n",
        "  left = 0\n",
        "  right = 0\n",
        "  if len(str(s)) % 2 == 0:\n",
        "    for i in range(len(str(s)) // 2 - 1):\n",
        "      left += int(str(s)[i])\n",
        "    for i in range(len(str(s)) // 2 + 1, len(str(s))):\n",
        "      right += int(str(s)[i])\n",
        "  else:\n",
        "    for i in range(len(str(s)) // 2):\n",
        "      left += int(str(s)[i])\n",
        "    for i in range(len(str(s)) // 2 + 1, len(str(s))):\n",
        "      right += int(str(s)[i])\n",
        "  if left != right:\n",
        "    return False\n",
        "  return True\n",
        "balance(123456)"
      ]
    },
    {
      "cell_type": "markdown",
      "metadata": {
        "id": "FLVJ_geBDy9V"
      },
      "source": [
        "Задача №11 Написать функцию, которая принимает двумерный массив M в первой колонке которой стоит буква латинского алфавита (данная буква обозначает принадлежность к классу) и вещественное число r, которое удовлетворяет условию 0<r<1. Функция должна разбить данный массив на 2 так, что количество строк в новых массивах пропорционально r и (r-1). Также, в каждом новом массиве, количество строк одного класса должно быть пропорционально количеству строк этого класса в исходном массиве.\n"
      ]
    },
    {
      "cell_type": "code",
      "execution_count": 27,
      "metadata": {
        "colab": {
          "base_uri": "https://localhost:8080/"
        },
        "id": "tSO4sUtpEhYk",
        "outputId": "37c55498-e131-4745-f383-d54d494478d4"
      },
      "outputs": [
        {
          "name": "stdout",
          "output_type": "stream",
          "text": [
            "['a', 1, 2]\n",
            "['b', 5, 6]\n",
            "['c', 9, 10]\n",
            "['a', 3, 4]\n",
            "['b', 7, 8]\n",
            "['c', 11, 12]\n"
          ]
        }
      ],
      "source": [
        "def arr_split(matrix, r):\n",
        "  if r <= 0 and r >= 1:\n",
        "    return (\"Вещественное число не удовлетворяет условию 0<r<1\")\n",
        "  dictionary = {}\n",
        "  for row in matrix:\n",
        "    label = row[0]\n",
        "    if label not in dictionary:\n",
        "      dictionary[label] = []\n",
        "    dictionary[label].append(row)\n",
        "  split1 = []\n",
        "  split2 = []\n",
        "  for label, rows in dictionary.items():\n",
        "    rPoint = int(len(rows) * r)\n",
        "    split1.extend(rows[:rPoint])\n",
        "    split2.extend(rows[rPoint:])\n",
        "  for item1 in split1:\n",
        "    print(item1)\n",
        "  for item2 in split2:\n",
        "    print(item2)\n",
        "\n",
        "arr_split([\n",
        "    ['a', 1, 2],\n",
        "    ['a', 3, 4],\n",
        "    ['b', 5, 6],\n",
        "    ['b', 7, 8],\n",
        "    ['c', 9, 10],\n",
        "    ['c', 11, 12],\n",
        "    ], 0.5)"
      ]
    }
  ],
  "metadata": {
    "colab": {
      "provenance": []
    },
    "kernelspec": {
      "display_name": "Python 3",
      "name": "python3"
    },
    "language_info": {
      "codemirror_mode": {
        "name": "ipython",
        "version": 3
      },
      "file_extension": ".py",
      "mimetype": "text/x-python",
      "name": "python",
      "nbconvert_exporter": "python",
      "pygments_lexer": "ipython3",
      "version": "3.11.10"
    }
  },
  "nbformat": 4,
  "nbformat_minor": 0
}
