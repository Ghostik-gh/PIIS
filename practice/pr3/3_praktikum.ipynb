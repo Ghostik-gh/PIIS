{
 "cells": [
  {
   "cell_type": "markdown",
   "metadata": {
    "id": "fifteen-sailing"
   },
   "source": [
    "# Практическая работа №3\n",
    "### Выполнил студент группы БВТ2102 Маширин Федор Сергеевич"
   ]
  },
  {
   "cell_type": "code",
   "execution_count": 1,
   "metadata": {
    "id": "ibCFGQ8IjbsE"
   },
   "outputs": [],
   "source": [
    "import numpy as np\n",
    "import matplotlib.pyplot as plt"
   ]
  },
  {
   "cell_type": "code",
   "execution_count": null,
   "metadata": {
    "id": "JXif51Dfx-VW"
   },
   "outputs": [
    {
     "name": "stdout",
     "output_type": "stream",
     "text": [
      "[[  0.  72.  86. ...  87.  59.  17.]\n",
      " [ 52.  57.  85. ...  28.  57.  52.]\n",
      " [  9.  27.  48. ...  76.   7.  38.]\n",
      " ...\n",
      " [ 19.  87. 100. ...  56.  93.  14.]\n",
      " [ 13.  36.  75. ...  17.  98.  56.]\n",
      " [ 17.  13.  44. ...  64.  50.  57.]]\n"
     ]
    }
   ],
   "source": [
    "np.savetxt('data.txt', np.random.randint(0, 101, size=(100, 11)), fmt='%d')\n",
    "data = np.loadtxt('data.txt')\n",
    "print(data)"
   ]
  },
  {
   "cell_type": "code",
   "execution_count": 84,
   "metadata": {},
   "outputs": [],
   "source": [
    "np.savetxt('data.txt', data, fmt='%d')"
   ]
  },
  {
   "cell_type": "markdown",
   "metadata": {
    "id": "9qzuuaGL-JVg"
   },
   "source": [
    "#### Задача 1\n",
    "Дано множество из p матриц (n,n) и множество из p векторов (n,1). Написать функцию для рассчета суммы p произведений матриц (результат имеет размерность (n,1))."
   ]
  },
  {
   "cell_type": "code",
   "execution_count": 5,
   "metadata": {
    "id": "2HPhuD_pictv"
   },
   "outputs": [],
   "source": [
    "def sum_matrix_x_vector(matrices, vectors):\n",
    "  if len(matrices) == len(vectors):\n",
    "    result = np.zeros((matrices[0].shape[0], 1))\n",
    "    for matrix, vector in zip(matrices, vectors):\n",
    "      result += np.dot(matrix, vector)\n",
    "\n",
    "    return result"
   ]
  },
  {
   "cell_type": "code",
   "execution_count": 10,
   "metadata": {
    "colab": {
     "base_uri": "https://localhost:8080/"
    },
    "executionInfo": {
     "elapsed": 5,
     "status": "ok",
     "timestamp": 1729442902218,
     "user": {
      "displayName": "Olesya Nikiforova",
      "userId": "01031724901959931367"
     },
     "user_tz": -180
    },
    "id": "eG4huzd2xPGy",
    "outputId": "2647147d-20a2-4449-c9db-09c0edee9b72"
   },
   "outputs": [
    {
     "name": "stdout",
     "output_type": "stream",
     "text": [
      "[[251555.]\n",
      " [261818.]\n",
      " [228330.]\n",
      " [256170.]\n",
      " [267149.]\n",
      " [264532.]\n",
      " [234774.]\n",
      " [259729.]\n",
      " [244837.]\n",
      " [214881.]]\n"
     ]
    }
   ],
   "source": [
    "def sum_matrix_x_vector(matrix_vector_pairs):\n",
    "    result = np.zeros((matrix_vector_pairs[0][0].shape[0], 1))\n",
    "    for matrix, vector in matrix_vector_pairs:\n",
    "        result += np.dot(matrix, vector)\n",
    "    return result\n",
    "\n",
    "data_split = np.split(data, 10)\n",
    "matrix_vector_pairs = [(block[:, :-1], block[:, -1].reshape(-1, 1)) for block in data_split]\n",
    "\n",
    "result = sum_matrix_x_vector(matrix_vector_pairs)\n",
    "print(result)\n"
   ]
  },
  {
   "cell_type": "markdown",
   "metadata": {
    "id": "QqkLtbIKCOlP"
   },
   "source": [
    "#### Задача 2\n",
    "Написать функцию преобразовывающую вектор чисел в матрицу бинарных представлений.\n"
   ]
  },
  {
   "cell_type": "code",
   "execution_count": 18,
   "metadata": {
    "id": "egk9TltyigVQ"
   },
   "outputs": [
    {
     "name": "stdout",
     "output_type": "stream",
     "text": [
      "[[0 0 0 0 0 0 0]\n",
      " [1 0 0 1 0 0 0]\n",
      " [1 0 1 0 1 1 0]\n",
      " [0 0 0 0 0 0 0]\n",
      " [1 0 0 0 0 1 1]\n",
      " [0 1 0 0 1 0 0]\n",
      " [0 0 0 0 0 1 1]\n",
      " [1 0 1 0 0 0 0]\n",
      " [1 0 1 0 1 1 1]\n",
      " [0 1 1 1 0 1 1]\n",
      " [0 0 1 0 0 0 1]]\n"
     ]
    }
   ],
   "source": [
    "def binary_matrix(vector):\n",
    "  max_val = int(np.max(vector))\n",
    "  num_bits = max_val.bit_length()\n",
    "\n",
    "  matrix = np.array([list(np.binary_repr(val, width=num_bits)) for val in vector], dtype=int)\n",
    "\n",
    "  return matrix\n",
    "vector = data[0].astype(int)\n",
    "res = binary_matrix(vector)\n",
    "print(res)"
   ]
  },
  {
   "cell_type": "markdown",
   "metadata": {
    "id": "EtjqCJWyKrZw"
   },
   "source": [
    "#### Задача 3\n",
    "Написать функцию, которая возвращает все уникальные строки матрицы.\n",
    "\n"
   ]
  },
  {
   "cell_type": "code",
   "execution_count": null,
   "metadata": {
    "id": "Df4q-zR4inXQ"
   },
   "outputs": [
    {
     "name": "stdout",
     "output_type": "stream",
     "text": [
      "[[ 0. 72. 86. ... 87. 59. 17.]\n",
      " [ 1. 66. 29. ...  8. 19. 45.]\n",
      " [ 2. 96. 12. ... 32. 80. 41.]\n",
      " ...\n",
      " [95. 56. 99. ... 74. 93.  7.]\n",
      " [96. 31. 98. ... 46. 15.  6.]\n",
      " [97. 73.  2. ... 24. 31. 73.]]\n"
     ]
    }
   ],
   "source": [
    "def unique_rows(data):\n",
    "  unique_values = np.unique(data, axis=0)\n",
    "  return unique_values\n",
    "\n",
    "copydata = data.copy()\n",
    "res = unique_rows(copydata)\n",
    "print(res)"
   ]
  },
  {
   "cell_type": "markdown",
   "metadata": {
    "id": "AlJaPg_FQFN8"
   },
   "source": [
    "#### Задача 4\n",
    "Написать функцию, которая заполняет матрицу с размерами (M,N) случайными числами распределенными по нормальному закону. Затем считает мат. ожидание и дисперсию для каждого из столбцов, а также строит для каждой строки гистограмму значений (использовать функцию hist из модуля matplotlib.plot).\n"
   ]
  },
  {
   "cell_type": "code",
   "execution_count": 40,
   "metadata": {},
   "outputs": [
    {
     "data": {
      "image/png": "[encoded data removed]",
      "text/plain": [
       "<Figure size 800x1600 with 4 Axes>"
      ]
     },
     "metadata": {},
     "output_type": "display_data"
    },
    {
     "name": "stdout",
     "output_type": "stream",
     "text": [
      "Мат. ожидание: [-6.37500000e-01 -5.82500000e-01  3.85000000e-01  3.75000000e-02\n",
      "  8.75000000e-02 -6.82500000e-01  4.65000000e-01  9.57500000e-01\n",
      "  3.70000000e-01  4.80000000e-01 -3.12500000e-01 -7.15000000e-01\n",
      "  5.50000000e-02  5.02500000e-01 -2.22500000e-01 -2.20000000e-01\n",
      "  5.72500000e-01  2.52500000e-01  2.15000000e-01 -2.10000000e-01\n",
      "  5.82500000e-01  6.87500000e-01  4.15000000e-01 -4.52500000e-01\n",
      "  5.20000000e-01 -7.65000000e-01 -2.35000000e-01  1.15000000e-01\n",
      " -9.15000000e-01  5.57500000e-01 -5.27500000e-01 -6.05000000e-01\n",
      "  2.60000000e-01  4.37500000e-01  7.65000000e-01 -1.08000000e+00\n",
      " -2.10000000e-01 -2.75000000e-01  2.62500000e-01 -1.09500000e+00\n",
      " -7.82500000e-01  2.50000000e-02 -1.22750000e+00 -8.27500000e-01\n",
      "  2.25000000e-02 -3.27500000e-01  5.35000000e-01  4.85000000e-01\n",
      " -4.02500000e-01  8.10000000e-01  5.75000000e-02  3.75000000e-02\n",
      " -8.50000000e-01  8.50000000e-02  3.57500000e-01 -3.05000000e-01\n",
      " -7.70000000e-01  2.35000000e-01 -5.35000000e-01  1.97500000e-01\n",
      " -4.75000000e-02 -9.15000000e-01  1.38777878e-17 -4.72500000e-01\n",
      "  7.45000000e-01  5.20000000e-01  4.60000000e-01  6.67500000e-01\n",
      "  1.27500000e-01  2.07500000e-01  5.52500000e-01  2.42500000e-01\n",
      " -5.60000000e-01 -8.00000000e-02  1.00000000e-02 -2.27500000e-01\n",
      " -6.42500000e-01  7.60000000e-01  1.45000000e-01  1.47500000e-01\n",
      "  4.30000000e-01 -3.50000000e-01 -6.75000000e-01 -8.67500000e-01\n",
      "  3.77500000e-01  2.00000000e-02  7.40000000e-01 -1.09000000e+00\n",
      " -1.13250000e+00  3.17500000e-01 -1.85000000e-01 -6.65000000e-01\n",
      "  3.90000000e-01 -9.37500000e-01 -1.60000000e-01  4.00000000e-01\n",
      " -3.17500000e-01  3.02500000e-01  7.92500000e-01 -6.57500000e-01] \n",
      "Дисперсия: [0.57706875 0.29601875 1.377025   0.31006875 0.29671875 0.46971875\n",
      " 0.035825   1.05606875 0.05565    0.11875    0.34806875 0.484925\n",
      " 0.744125   1.35081875 0.34641875 0.59055    2.04196875 0.53371875\n",
      " 0.205025   0.14125    1.26081875 0.71416875 0.993725   0.15421875\n",
      " 0.85365    0.273275   0.504225   1.187475   0.510475   1.49306875\n",
      " 2.59911875 1.954725   0.85465    0.88866875 0.970275   0.77365\n",
      " 0.42815    0.638525   0.74896875 0.467225   0.40166875 0.676725\n",
      " 1.36571875 0.30446875 0.19236875 0.96146875 0.012825   0.756875\n",
      " 0.98766875 0.2633     0.16871875 0.26276875 0.5317     1.537725\n",
      " 2.33356875 0.470725   0.41535    0.298875   0.511425   0.18146875\n",
      " 1.47256875 2.138825   0.1917     0.37461875 0.342225   0.38795\n",
      " 0.09125    0.97671875 0.35011875 2.25036875 0.39156875 0.33406875\n",
      " 0.269      0.22665    1.93665    0.38166875 0.47526875 0.30435\n",
      " 0.840425   0.14086875 0.1401     1.8789     0.883025   0.21801875\n",
      " 0.83906875 1.39615    0.1459     0.95565    0.35196875 0.62766875\n",
      " 0.483275   0.017875   0.15485    1.13561875 0.1187     0.84275\n",
      " 1.29831875 1.16121875 0.48186875 0.15876875]\n"
     ]
    }
   ],
   "source": [
    "def fill_matrix_normal(m, n, mean=0, std=1):\n",
    "    data = np.random.normal(loc=mean, scale=std, size=(m, n))\n",
    "    data = np.round(data, decimals=2)\n",
    "\n",
    "    means = np.mean(data, axis=0)\n",
    "    variances = np.var(data, axis=0)\n",
    "\n",
    "    fig, axes = plt.subplots(m, 1, figsize=(8, 4 * m))\n",
    "    for i in range(m):\n",
    "        axes[i].hist(data[i], bins=20, density=True, alpha=0.6, color='b', label='Гистограмма')\n",
    "        axes[i].set_title(f\"Рапсределение по столбцу {i + 1}\")\n",
    "        axes[i].set_xlabel(\"Значение\")\n",
    "        axes[i].set_ylabel(\"Плотность вероятности\")\n",
    "        axes[i].grid(True)\n",
    "\n",
    "    plt.tight_layout()\n",
    "    plt.show()\n",
    "\n",
    "    return means, variances\n",
    "\n",
    "means, variances = fill_matrix_normal(4, 100, mean=0, std=1)\n",
    "print(f\"Мат. ожидание: {means} \\nДисперсия: {variances}\")\n"
   ]
  },
  {
   "cell_type": "markdown",
   "metadata": {
    "id": "toKpvGr_7TA-"
   },
   "source": [
    "#### Задача 5\n",
    "Написать функцию, которая заполняет матрицу (M,N) в шахматном порядке заданными числами a и b.\n",
    "\n"
   ]
  },
  {
   "cell_type": "code",
   "execution_count": 47,
   "metadata": {},
   "outputs": [],
   "source": [
    "def fill_chess_matrix(m, n, a, b):\n",
    "    matrix = np.zeros((m, n), dtype=int)\n",
    "    \n",
    "    for i in range(m):\n",
    "        for j in range(n):\n",
    "            if (i + j) % 2 == 0:\n",
    "                matrix[i, j] = a\n",
    "            else:\n",
    "                matrix[i, j] = b\n",
    "    \n",
    "    return matrix\n"
   ]
  },
  {
   "cell_type": "code",
   "execution_count": 48,
   "metadata": {},
   "outputs": [
    {
     "name": "stdout",
     "output_type": "stream",
     "text": [
      "[[0 8 0 8 0 8]\n",
      " [8 0 8 0 8 0]\n",
      " [0 8 0 8 0 8]\n",
      " [8 0 8 0 8 0]]\n"
     ]
    }
   ],
   "source": [
    "matrix = fill_chess_matrix(4, 6, 0, 8)\n",
    "print(matrix)\n"
   ]
  },
  {
   "cell_type": "markdown",
   "metadata": {
    "id": "kESgc6VL9pQn"
   },
   "source": [
    "#### Задача 6\n",
    "Написать функцию, которая возвращает тензор представляющий изображение круга с заданным цветом и радиусом в схеме rgd на черном фоне."
   ]
  },
  {
   "cell_type": "code",
   "execution_count": 55,
   "metadata": {},
   "outputs": [
    {
     "data": {
      "image/png": "[encoded data removed]",
      "text/plain": [
       "<Figure size 640x480 with 1 Axes>"
      ]
     },
     "metadata": {},
     "output_type": "display_data"
    }
   ],
   "source": [
    "def create_circle_image(radius, color, size=(100, 100)):\n",
    "    height, width = size\n",
    "    image = np.zeros((height, width, 3), dtype=np.uint8)\n",
    "    \n",
    "    center_x = width // 2\n",
    "    center_y = height // 2\n",
    "    \n",
    "    for x in range(width):\n",
    "        for y in range(height):\n",
    "            if ((x - center_x) ** 2 + (y - center_y) ** 2) ** 0.5 <= radius:\n",
    "                image[y, x] = color\n",
    "    \n",
    "    return image\n",
    "\n",
    "circle_image = create_circle_image(radius=30, color=(123, 22, 111), size=(100, 100))\n",
    "\n",
    "plt.imshow(circle_image)\n",
    "plt.show()\n"
   ]
  },
  {
   "cell_type": "markdown",
   "metadata": {
    "id": "9VvXCqHxAHbl"
   },
   "source": [
    "#### Задача 7\n",
    "Написать функцию, которая стандартизирует все значения тензор (отнять мат. ожидание и поделить на СКО)."
   ]
  },
  {
   "cell_type": "code",
   "execution_count": 56,
   "metadata": {
    "id": "RXHuT7uJi_76"
   },
   "outputs": [],
   "source": [
    "def std_tensor(tensor):\n",
    "  mean = np.mean(tensor)\n",
    "  std = np.std(tensor)\n",
    "\n",
    "  tensor_std = (tensor - mean) / std\n",
    "\n",
    "  return tensor_std"
   ]
  },
  {
   "cell_type": "code",
   "execution_count": 57,
   "metadata": {
    "colab": {
     "base_uri": "https://localhost:8080/"
    },
    "executionInfo": {
     "elapsed": 557,
     "status": "ok",
     "timestamp": 1729444879709,
     "user": {
      "displayName": "Olesya Nikiforova",
      "userId": "01031724901959931367"
     },
     "user_tz": -180
    },
    "id": "weybhZHn6i8j",
    "outputId": "e87a8863-d31e-46a9-b2aa-41e082cdc4ad"
   },
   "outputs": [
    {
     "name": "stdout",
     "output_type": "stream",
     "text": [
      "[[[-0.53203155 -0.53203155 -0.53203155]\n",
      "  [-0.53203155 -0.53203155 -0.53203155]\n",
      "  [-0.53203155 -0.53203155 -0.53203155]\n",
      "  ...\n",
      "  [-0.53203155 -0.53203155 -0.53203155]\n",
      "  [-0.53203155 -0.53203155 -0.53203155]\n",
      "  [-0.53203155 -0.53203155 -0.53203155]]\n",
      "\n",
      " [[-0.53203155 -0.53203155 -0.53203155]\n",
      "  [-0.53203155 -0.53203155 -0.53203155]\n",
      "  [-0.53203155 -0.53203155 -0.53203155]\n",
      "  ...\n",
      "  [-0.53203155 -0.53203155 -0.53203155]\n",
      "  [-0.53203155 -0.53203155 -0.53203155]\n",
      "  [-0.53203155 -0.53203155 -0.53203155]]\n",
      "\n",
      " [[-0.53203155 -0.53203155 -0.53203155]\n",
      "  [-0.53203155 -0.53203155 -0.53203155]\n",
      "  [-0.53203155 -0.53203155 -0.53203155]\n",
      "  ...\n",
      "  [-0.53203155 -0.53203155 -0.53203155]\n",
      "  [-0.53203155 -0.53203155 -0.53203155]\n",
      "  [-0.53203155 -0.53203155 -0.53203155]]\n",
      "\n",
      " ...\n",
      "\n",
      " [[-0.53203155 -0.53203155 -0.53203155]\n",
      "  [-0.53203155 -0.53203155 -0.53203155]\n",
      "  [-0.53203155 -0.53203155 -0.53203155]\n",
      "  ...\n",
      "  [-0.53203155 -0.53203155 -0.53203155]\n",
      "  [-0.53203155 -0.53203155 -0.53203155]\n",
      "  [-0.53203155 -0.53203155 -0.53203155]]\n",
      "\n",
      " [[-0.53203155 -0.53203155 -0.53203155]\n",
      "  [-0.53203155 -0.53203155 -0.53203155]\n",
      "  [-0.53203155 -0.53203155 -0.53203155]\n",
      "  ...\n",
      "  [-0.53203155 -0.53203155 -0.53203155]\n",
      "  [-0.53203155 -0.53203155 -0.53203155]\n",
      "  [-0.53203155 -0.53203155 -0.53203155]]\n",
      "\n",
      " [[-0.53203155 -0.53203155 -0.53203155]\n",
      "  [-0.53203155 -0.53203155 -0.53203155]\n",
      "  [-0.53203155 -0.53203155 -0.53203155]\n",
      "  ...\n",
      "  [-0.53203155 -0.53203155 -0.53203155]\n",
      "  [-0.53203155 -0.53203155 -0.53203155]\n",
      "  [-0.53203155 -0.53203155 -0.53203155]]]\n"
     ]
    }
   ],
   "source": [
    "tensor_std = std_tensor(circle_image)\n",
    "print(tensor_std)"
   ]
  },
  {
   "cell_type": "markdown",
   "metadata": {
    "id": "lcB9vnGw9eGF"
   },
   "source": [
    "#### Задача 8\n",
    "Написать функцию, выделяющую часть матрицы фиксированного размера с центром в данном элементе (дополненное значением fill если необходимо)."
   ]
  },
  {
   "cell_type": "code",
   "execution_count": 82,
   "metadata": {},
   "outputs": [],
   "source": [
    "def submatrix_with_center(matrix, center, size, fill=0):\n",
    "    row_center, col_center = center\n",
    "    row_start = max(0, row_center - size // 2)\n",
    "    row_end = min(matrix.shape[0], row_center + size // 2 + 1)\n",
    "    col_start = max(0, col_center - size // 2)\n",
    "    col_end = min(matrix.shape[1], col_center + size // 2 + 1)\n",
    "    \n",
    "    submatrix = np.full((size, size), fill)\n",
    "    submatrix[max(0, size // 2 - row_center):size - max(0, row_center + size // 2 - matrix.shape[0]),\n",
    "              max(0, size // 2 - col_center):size - max(0, col_center + size // 2 - matrix.shape[1])] = \\\n",
    "        matrix[row_start:row_end, col_start:col_end]\n",
    "    \n",
    "    return submatrix\n"
   ]
  },
  {
   "cell_type": "code",
   "execution_count": 83,
   "metadata": {
    "colab": {
     "base_uri": "https://localhost:8080/"
    },
    "executionInfo": {
     "elapsed": 448,
     "status": "ok",
     "timestamp": 1729447596249,
     "user": {
      "displayName": "Olesya Nikiforova",
      "userId": "01031724901959931367"
     },
     "user_tz": -180
    },
    "id": "BETuwCn7Fwb_",
    "outputId": "d76b721d-5ea5-4b6c-d9d4-7888fbb65987"
   },
   "outputs": [
    {
     "name": "stdout",
     "output_type": "stream",
     "text": [
      "[[ 0  0  0  0  0]\n",
      " [ 0  0 72 86  0]\n",
      " [ 0 52 57 85 14]\n",
      " [ 0  9 27 48  0]\n",
      " [ 0 48 25 84 38]]\n"
     ]
    }
   ],
   "source": [
    "center = (1, 1)\n",
    "size = 5\n",
    "\n",
    "res8 = submatrix_with_center(data, center, size, fill=0)\n",
    "print(res8)"
   ]
  },
  {
   "cell_type": "markdown",
   "metadata": {
    "id": "1v5N2LpPHGuE"
   },
   "source": [
    "#### Задача 9\n",
    "Написать функцию, которая находит самое часто встречающееся число в каждой строке матрицы и возвращает массив этих значений."
   ]
  },
  {
   "cell_type": "code",
   "execution_count": 85,
   "metadata": {
    "id": "bNcDlvVkjHA6"
   },
   "outputs": [],
   "source": [
    "def common_values_in_rows(matrix):\n",
    "  values = []\n",
    "\n",
    "  for row in matrix:\n",
    "    unique_elements, counts = np.unique(row, return_counts=True)\n",
    "    max_count_index = np.argmax(counts)\n",
    "    values.append(unique_elements[max_count_index])\n",
    "\n",
    "  return np.array(values)"
   ]
  },
  {
   "cell_type": "code",
   "execution_count": 86,
   "metadata": {
    "colab": {
     "base_uri": "https://localhost:8080/"
    },
    "executionInfo": {
     "elapsed": 458,
     "status": "ok",
     "timestamp": 1729447991733,
     "user": {
      "displayName": "Olesya Nikiforova",
      "userId": "01031724901959931367"
     },
     "user_tz": -180
    },
    "id": "Rh2f7uJRIFP4",
    "outputId": "2677e112-9f1e-4c98-dff8-587374a5d621"
   },
   "outputs": [
    {
     "name": "stdout",
     "output_type": "stream",
     "text": [
      "[  0.  52.   0.   0.  33.   9.  22.   1.  74.   3.  29.   0.  87.  30.\n",
      "   9.  60.  16.   3.   0.   1.   9.  70.  19.  20.   5.   9.  25.   6.\n",
      "  67. 100.   9.   0.   1.   2.  80.  17.   9.   6.  29.   4.  29.  75.\n",
      "   0.  33.  22.  28.  24.   2.  50.  89.  35.   7.  45.   4.   9.  74.\n",
      "   1.  77.  59.   6.   0.  85.  84.   0.  22.  12.  87.   3.  35.   2.\n",
      "  58.  43.  21.   2.   7.   9.  10.  35.   2.  13.   0.   0.   8.   9.\n",
      "  57.  84.   2.  10.   1.  29. 100.   6.  18.  73.  64.  89.   4.  14.\n",
      "  17.  13.]\n"
     ]
    }
   ],
   "source": [
    "res9 = common_values_in_rows(data)\n",
    "print(res9)"
   ]
  },
  {
   "cell_type": "markdown",
   "metadata": {
    "id": "D4fXQMguKvDd"
   },
   "source": [
    "#### Задача 10\n",
    "Дан трёхмерный массив, содержащий изображение, размера (height, width, numChannels), а также вектор длины numChannels. Написать функцию, которая складывает каналы изображения с указанными весами, и возвращает результат в виде матрицы размера (height, width)."
   ]
  },
  {
   "cell_type": "code",
   "execution_count": 93,
   "metadata": {
    "id": "roW3oPCQjKUZ"
   },
   "outputs": [],
   "source": [
    "def sum_channels_weghts(img, weights):\n",
    "  if img.shape[2] != weights.shape[0]:\n",
    "    raise ValueError(\"Количество весов должно совпадать с числом каналов изображения.\")\n",
    "\n",
    "  weighted_img = img * weights[np.newaxis, np.newaxis, :]\n",
    "\n",
    "  result = np.sum(weighted_img, axis=2)\n",
    "\n",
    "  return result"
   ]
  },
  {
   "cell_type": "code",
   "execution_count": 94,
   "metadata": {
    "colab": {
     "base_uri": "https://localhost:8080/"
    },
    "executionInfo": {
     "elapsed": 510,
     "status": "ok",
     "timestamp": 1729450607519,
     "user": {
      "displayName": "Olesya Nikiforova",
      "userId": "01031724901959931367"
     },
     "user_tz": -180
    },
    "id": "Vy_wnVBYM01b",
    "outputId": "4a860bf3-27da-471e-9b46-1c3c17da03bb"
   },
   "outputs": [
    {
     "name": "stdout",
     "output_type": "stream",
     "text": [
      "[[203.9 168.6  55.9  88.9  58.9 149.4]\n",
      " [208.5  97.3 195.5 137.2  64.2 223.2]\n",
      " [209.3 180.2 148.3 241.2 300.4 158.9]\n",
      " [203.3 181.9 127.7 233.6 177.1 157.9]\n",
      " [114.9 276.4 187.7 125.7 156.1 109.1]\n",
      " [121.3 179.  242.6 195.4 238.9 142.3]]\n"
     ]
    }
   ],
   "source": [
    "height, width, numChannels = 6, 6, 3\n",
    "image = np.random.randint(0, 256, (height, width, numChannels))\n",
    "weights = np.array([0.4, 0.7, 0.2])\n",
    "\n",
    "res10 = sum_channels_weghts(image, weights)\n",
    "print(res10)"
   ]
  }
 ],
 "metadata": {
  "colab": {
   "provenance": [
    {
     "file_id": "1KrVXbsvXN7_fDtH3Qlgxp0HTFt-e0qPD",
     "timestamp": 1725986794173
    }
   ]
  },
  "kernelspec": {
   "display_name": "venv",
   "language": "python",
   "name": "python3"
  },
  "language_info": {
   "codemirror_mode": {
    "name": "ipython",
    "version": 3
   },
   "file_extension": ".py",
   "mimetype": "text/x-python",
   "name": "python",
   "nbconvert_exporter": "python",
   "pygments_lexer": "ipython3",
   "version": "3.11.10"
  }
 },
 "nbformat": 4,
 "nbformat_minor": 0
}
