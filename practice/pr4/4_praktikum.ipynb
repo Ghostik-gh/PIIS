{
 "cells": [
  {
   "cell_type": "markdown",
   "metadata": {
    "id": "fifteen-sailing"
   },
   "source": [
    "# Практическая работа №4\n",
    "### Выполнил студент группы БВТ2102 Маширин Федор Сергеевич\n",
    "\n",
    "Вариант 4\n",
    "(a or b) and (b or c)\n",
    "\n",
    "#### Цель работы:\n",
    "Необходимо реализовать нейронную сеть вычисляющую результат заданной логической операции. Затем реализовать функции, которые будут симулировать работу построенной модели. Функции должны принимать тензор входных данных и список весов.<br>\n",
    "#### Задание:\n",
    "Должно быть реализовано 2 функции:\n",
    "1. Функция, в которой все операции реализованы как поэлементные операции над тензорами.\n",
    "2. Функция, в которой все операции реализованы с использованием операций над тензорами из NumPy.\n",
    "\n",
    "Для проверки корректности работы функций необходимо:\n",
    "1. Инициализировать модель и получить из нее веса.\n",
    "2. Прогнать датасет через не обученную модель и реализованные 2 функции. Сравнить результат.\n",
    "3. Обучить модель и получить веса после обучения\n",
    "4. Прогнать датасет через обученную модель и реализованные 2 функции. Сравнить результат.\n",
    "\n",
    "*Примечание: так как множество всех наблюдений ограничено, то обучение проводить можно на всем датасете без контроля.*\n",
    "\n"
   ]
  },
  {
   "cell_type": "code",
   "execution_count": 1,
   "metadata": {
    "executionInfo": {
     "elapsed": 840,
     "status": "ok",
     "timestamp": 1730664699784,
     "user": {
      "displayName": "Olesya Nikiforova",
      "userId": "01031724901959931367"
     },
     "user_tz": -180
    },
    "id": "AkycZhSw8XeY"
   },
   "outputs": [],
   "source": [
    "import numpy as np\n",
    "from tensorflow.keras.layers import Dense\n",
    "from tensorflow.keras.models import Sequential"
   ]
  },
  {
   "cell_type": "code",
   "execution_count": 6,
   "metadata": {
    "executionInfo": {
     "elapsed": 436,
     "status": "ok",
     "timestamp": 1730672412955,
     "user": {
      "displayName": "Olesya Nikiforova",
      "userId": "01031724901959931367"
     },
     "user_tz": -180
    },
    "id": "0trw1O1I4PWY"
   },
   "outputs": [],
   "source": [
    "# Определение логической операции (a or b) and (b or c)\n",
    "def logical_operation(a, b, c):\n",
    "  return (a or b) and (b or c)\n",
    "\n",
    "data = [(a, b, c, logical_operation(a, b, c)) for a in [0, 1] for b in [0, 1] for c in [0, 1]]\n",
    "X = np.array([[a, b, c] for a, b, c, _ in data], dtype=np.float32)\n",
    "y = np.array([[out] for _, _, _, out in data], dtype=np.float32)"
   ]
  },
  {
   "cell_type": "code",
   "execution_count": 7,
   "metadata": {
    "colab": {
     "base_uri": "https://localhost:8080/"
    },
    "executionInfo": {
     "elapsed": 407,
     "status": "ok",
     "timestamp": 1730672204079,
     "user": {
      "displayName": "Olesya Nikiforova",
      "userId": "01031724901959931367"
     },
     "user_tz": -180
    },
    "id": "lK3NKG-d_p5l",
    "outputId": "54056ccb-7a0e-4804-d7a1-4502c4184a96"
   },
   "outputs": [
    {
     "name": "stdout",
     "output_type": "stream",
     "text": [
      "[0. 0. 0.] [0.]\n",
      "[0. 0. 1.] [0.]\n",
      "[0. 1. 0.] [1.]\n",
      "[0. 1. 1.] [1.]\n",
      "[1. 0. 0.] [0.]\n",
      "[1. 0. 1.] [1.]\n",
      "[1. 1. 0.] [1.]\n",
      "[1. 1. 1.] [1.]\n"
     ]
    }
   ],
   "source": [
    "for x in zip(X, y):\n",
    "    print(*x)"
   ]
  },
  {
   "cell_type": "code",
   "execution_count": 37,
   "metadata": {
    "executionInfo": {
     "elapsed": 419,
     "status": "ok",
     "timestamp": 1730671430362,
     "user": {
      "displayName": "Olesya Nikiforova",
      "userId": "01031724901959931367"
     },
     "user_tz": -180
    },
    "id": "RPmBocxOTItv"
   },
   "outputs": [
    {
     "data": {
      "text/plain": [
       "[array([[ 0.22698689,  0.08038545, -0.2881286 ],\n",
       "        [-0.26394892, -0.58851314, -0.59928703],\n",
       "        [ 0.8222959 , -0.7742624 ,  0.67698765]], dtype=float32),\n",
       " array([0., 0., 0.], dtype=float32),\n",
       " array([[0.07938039],\n",
       "        [0.5206938 ],\n",
       "        [0.5582528 ]], dtype=float32),\n",
       " array([0.], dtype=float32)]"
      ]
     },
     "execution_count": 37,
     "metadata": {},
     "output_type": "execute_result"
    }
   ],
   "source": [
    "# Создание модели\n",
    "model = Sequential()\n",
    "model.add(Dense(3, input_shape=(3,), activation='relu'))\n",
    "model.add(Dense(1, activation='sigmoid'))\n",
    "model.compile(optimizer='adam', loss='binary_crossentropy', metrics=['accuracy'])\n",
    "# Получение начальных весов\n",
    "initial_weights = model.get_weights()\n",
    "initial_weights"
   ]
  },
  {
   "cell_type": "code",
   "execution_count": 9,
   "metadata": {
    "executionInfo": {
     "elapsed": 406,
     "status": "ok",
     "timestamp": 1730669437683,
     "user": {
      "displayName": "Olesya Nikiforova",
      "userId": "01031724901959931367"
     },
     "user_tz": -180
    },
    "id": "CAHYeEgO77wS"
   },
   "outputs": [],
   "source": [
    "def exp(x):\n",
    "  return 2.718281828459045 ** x"
   ]
  },
  {
   "cell_type": "code",
   "execution_count": 10,
   "metadata": {
    "executionInfo": {
     "elapsed": 426,
     "status": "ok",
     "timestamp": 1730669835092,
     "user": {
      "displayName": "Olesya Nikiforova",
      "userId": "01031724901959931367"
     },
     "user_tz": -180
    },
    "id": "2G1avGLFULum"
   },
   "outputs": [],
   "source": [
    "# Функция, в которой все операции реализованы как поэлементные операции над тензорами\n",
    "def elem_tensor_function(inputs, weights):\n",
    "  W1, b1, W2, b2 = weights\n",
    "\n",
    "  # Инициализация скрытого слоя\n",
    "  H = []\n",
    "  for i in range(len(inputs)):\n",
    "    h = []\n",
    "    for j in range(len(W1)):\n",
    "      sum_val = 0\n",
    "      for k in range(len(W1[j])):\n",
    "        sum_val += inputs[i][k] * W1[j][k]\n",
    "      sum_val += b1[j]\n",
    "      h.append(max(0, sum_val))\n",
    "    H.append(h)\n",
    "\n",
    "  # Инициализация выходного слоя\n",
    "  Y_pred = []\n",
    "  for i in range(len(H)):\n",
    "    sum_val = 0\n",
    "    for j in range(len(W2)):\n",
    "      sum_val += H[i][j] * W2[j]\n",
    "    sum_val += b2[0]\n",
    "    Y_pred.append(1 / (1 + exp(-sum_val)))\n",
    "\n",
    "  return np.array(Y_pred)\n"
   ]
  },
  {
   "cell_type": "code",
   "execution_count": 11,
   "metadata": {
    "executionInfo": {
     "elapsed": 499,
     "status": "ok",
     "timestamp": 1730669413615,
     "user": {
      "displayName": "Olesya Nikiforova",
      "userId": "01031724901959931367"
     },
     "user_tz": -180
    },
    "id": "aLmqy8OgUqI7"
   },
   "outputs": [],
   "source": [
    "# Функция, в которой все операции реализованы с использованием операций над тензорами из NumPy\n",
    "def numpy_tensor_function(inputs, weights):\n",
    "  W1, b1, W2, b2 = weights\n",
    "\n",
    "  H = np.maximum(0, np.dot(inputs, W1) + b1)  # Скрытый слой\n",
    "  Y_pred = 1 / (1 + np.exp(-np.dot(H, W2) - b2))  # Выходной слой\n",
    "\n",
    "  return Y_pred"
   ]
  },
  {
   "cell_type": "code",
   "execution_count": 25,
   "metadata": {
    "colab": {
     "base_uri": "https://localhost:8080/"
    },
    "executionInfo": {
     "elapsed": 545,
     "status": "ok",
     "timestamp": 1730671443913,
     "user": {
      "displayName": "Olesya Nikiforova",
      "userId": "01031724901959931367"
     },
     "user_tz": -180
    },
    "id": "yBc_cErGYCoY",
    "outputId": "6d504bc7-5982-4fa8-a7eb-f459d5bbb72d"
   },
   "outputs": [
    {
     "name": "stdout",
     "output_type": "stream",
     "text": [
      "Сравнение на не обученной модели:\n",
      "\u001b[1m1/1\u001b[0m \u001b[32m━━━━━━━━━━━━━━━━━━━━\u001b[0m\u001b[37m\u001b[0m \u001b[1m0s\u001b[0m 29ms/step\n",
      "Модель: [0.5        0.41662967 0.2904222  0.31214076 0.39482468 0.47506458\n",
      " 0.28091362 0.37751582]\n",
      "Поэлементная функция тензоров: [0.5        0.24708189 0.3787405  0.2014875  0.25692576 0.1036882\n",
      " 0.1941698  0.08168372]\n",
      "Функция NumPy: [0.5        0.41662973 0.2904222  0.31214073 0.39482468 0.47506455\n",
      " 0.28091362 0.3775158 ]\n"
     ]
    }
   ],
   "source": [
    "# Сравнение результатов на не обученной модели\n",
    "print(\"Сравнение на не обученной модели:\")\n",
    "model_untrained_preds = model.predict(X)\n",
    "elem_tensor_preds = elem_tensor_function(X, initial_weights)\n",
    "numpy_tensor_preds = numpy_tensor_function(X, initial_weights)\n",
    "print(\"Модель:\", model_untrained_preds.flatten())\n",
    "print(\"Поэлементная функция тензоров:\", elem_tensor_preds.flatten())\n",
    "print(\"Функция NumPy:\", numpy_tensor_preds.flatten())"
   ]
  },
  {
   "cell_type": "code",
   "execution_count": 38,
   "metadata": {
    "executionInfo": {
     "elapsed": 8207,
     "status": "ok",
     "timestamp": 1730672608461,
     "user": {
      "displayName": "Olesya Nikiforova",
      "userId": "01031724901959931367"
     },
     "user_tz": -180
    },
    "id": "SJ95TflZYEXz"
   },
   "outputs": [],
   "source": [
    "# Обучение модели\n",
    "model.fit(X, y, epochs=100, verbose=0)\n",
    "trained_weights = model.get_weights()"
   ]
  },
  {
   "cell_type": "code",
   "execution_count": 39,
   "metadata": {
    "colab": {
     "base_uri": "https://localhost:8080/"
    },
    "executionInfo": {
     "elapsed": 392,
     "status": "ok",
     "timestamp": 1730672610641,
     "user": {
      "displayName": "Olesya Nikiforova",
      "userId": "01031724901959931367"
     },
     "user_tz": -180
    },
    "id": "l3027aVVYLvh",
    "outputId": "264ccdc3-748f-43e5-8338-fac8bca6c90e"
   },
   "outputs": [
    {
     "name": "stdout",
     "output_type": "stream",
     "text": [
      "Сравнение на обученной модели:\n",
      "\u001b[1m1/1\u001b[0m \u001b[32m━━━━━━━━━━━━━━━━━━━━\u001b[0m\u001b[37m\u001b[0m \u001b[1m0s\u001b[0m 30ms/step\n",
      "Модель: [0.5246284  0.65190685 0.52259594 0.5919254  0.53981125 0.6469394\n",
      " 0.53317946 0.58664453]\n",
      "Поэлементная функция тензоров: [0.5246284  0.61104405 0.52547115 0.52351665 0.64366686 0.7144266\n",
      " 0.559517   0.6375781 ]\n",
      "Функция NumPy: [0.5246284  0.6519069  0.522596   0.5919254  0.5398112  0.64693934\n",
      " 0.5331795  0.5866446 ]\n"
     ]
    }
   ],
   "source": [
    "# Сравнение результатов на обученной модели\n",
    "print(\"Сравнение на обученной модели:\")\n",
    "model_trained_preds = model.predict(X)\n",
    "elem_tensor_preds = elem_tensor_function(X, trained_weights)\n",
    "numpy_tensor_preds = numpy_tensor_function(X, trained_weights)\n",
    "print(\"Модель:\", model_trained_preds.flatten())\n",
    "print(\"Поэлементная функция тензоров:\", elem_tensor_preds.flatten())\n",
    "print(\"Функция NumPy:\", numpy_tensor_preds.flatten())"
   ]
  }
 ],
 "metadata": {
  "colab": {
   "provenance": [
    {
     "file_id": "1KrVXbsvXN7_fDtH3Qlgxp0HTFt-e0qPD",
     "timestamp": 1725986794173
    }
   ]
  },
  "kernelspec": {
   "display_name": "venv",
   "language": "python",
   "name": "python3"
  },
  "language_info": {
   "codemirror_mode": {
    "name": "ipython",
    "version": 3
   },
   "file_extension": ".py",
   "mimetype": "text/x-python",
   "name": "python",
   "nbconvert_exporter": "python",
   "pygments_lexer": "ipython3",
   "version": "3.11.10"
  }
 },
 "nbformat": 4,
 "nbformat_minor": 0
}
